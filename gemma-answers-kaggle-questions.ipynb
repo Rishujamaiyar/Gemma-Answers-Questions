{
 "cells": [
  {
   "cell_type": "markdown",
   "id": "0fa9634e",
   "metadata": {
    "papermill": {
     "duration": 0.006446,
     "end_time": "2024-04-13T09:41:50.722230",
     "exception": false,
     "start_time": "2024-04-13T09:41:50.715784",
     "status": "completed"
    },
    "tags": []
   },
   "source": [
    "## Finetuning Gemma on Kaggle documentation dataset"
   ]
  },
  {
   "cell_type": "markdown",
   "id": "c7098cc8",
   "metadata": {
    "papermill": {
     "duration": 0.005757,
     "end_time": "2024-04-13T09:41:50.734228",
     "exception": false,
     "start_time": "2024-04-13T09:41:50.728471",
     "status": "completed"
    },
    "tags": []
   },
   "source": [
    "### Installing the requirements"
   ]
  },
  {
   "cell_type": "code",
   "execution_count": 1,
   "id": "caef3090",
   "metadata": {
    "execution": {
     "iopub.execute_input": "2024-04-13T09:41:50.747120Z",
     "iopub.status.busy": "2024-04-13T09:41:50.746756Z",
     "iopub.status.idle": "2024-04-13T09:42:37.531596Z",
     "shell.execute_reply": "2024-04-13T09:42:37.530607Z"
    },
    "papermill": {
     "duration": 46.79369,
     "end_time": "2024-04-13T09:42:37.533701",
     "exception": false,
     "start_time": "2024-04-13T09:41:50.740011",
     "status": "completed"
    },
    "tags": []
   },
   "outputs": [
    {
     "name": "stdout",
     "output_type": "stream",
     "text": [
      "\u001b[31mERROR: pip's dependency resolver does not currently take into account all the packages that are installed. This behaviour is the source of the following dependency conflicts.\r\n",
      "tensorflow-decision-forests 1.8.1 requires wurlitzer, which is not installed.\u001b[0m\u001b[31m\r\n",
      "\u001b[0m\u001b[31mERROR: pip's dependency resolver does not currently take into account all the packages that are installed. This behaviour is the source of the following dependency conflicts.\r\n",
      "tensorflow-decision-forests 1.8.1 requires wurlitzer, which is not installed.\r\n",
      "tensorflow 2.15.0 requires keras<2.16,>=2.15.0, but you have keras 3.2.1 which is incompatible.\u001b[0m\u001b[31m\r\n",
      "\u001b[0m"
     ]
    },
    {
     "name": "stderr",
     "output_type": "stream",
     "text": [
      "2024-04-13 09:42:26.661316: E external/local_xla/xla/stream_executor/cuda/cuda_dnn.cc:9261] Unable to register cuDNN factory: Attempting to register factory for plugin cuDNN when one has already been registered\n",
      "2024-04-13 09:42:26.661417: E external/local_xla/xla/stream_executor/cuda/cuda_fft.cc:607] Unable to register cuFFT factory: Attempting to register factory for plugin cuFFT when one has already been registered\n",
      "2024-04-13 09:42:26.786595: E external/local_xla/xla/stream_executor/cuda/cuda_blas.cc:1515] Unable to register cuBLAS factory: Attempting to register factory for plugin cuBLAS when one has already been registered\n"
     ]
    },
    {
     "name": "stdout",
     "output_type": "stream",
     "text": [
      "[nltk_data] Downloading package punkt to /usr/share/nltk_data...\n",
      "[nltk_data]   Package punkt is already up-to-date!\n"
     ]
    }
   ],
   "source": [
    "# Install Keras 3 last. See https://keras.io/getting_started/ for more details.\n",
    "!pip install -q -U keras-nlp\n",
    "!pip install -q -U keras>=3\n",
    "\n",
    "import os\n",
    "\n",
    "os.environ[\"KERAS_BACKEND\"] = \"jax\"  # Or \"torch\" or \"tensorflow\".\n",
    "# Avoid memory fragmentation on JAX backend.\n",
    "os.environ[\"XLA_PYTHON_CLIENT_MEM_FRACTION\"]=\"1.00\"\n",
    "\n",
    "\n",
    "#Importing Libraries\n",
    "import keras\n",
    "import keras_nlp\n",
    "import pandas as pd\n",
    "import nltk\n",
    "nltk.download('punkt')\n",
    "from nltk.tokenize import word_tokenize"
   ]
  },
  {
   "cell_type": "markdown",
   "id": "22d435f2",
   "metadata": {
    "papermill": {
     "duration": 0.012838,
     "end_time": "2024-04-13T09:42:37.555479",
     "exception": false,
     "start_time": "2024-04-13T09:42:37.542641",
     "status": "completed"
    },
    "tags": []
   },
   "source": [
    "### Dataset\n",
    "\n",
    "We are utilizing our own Kaggle dataset titled \"Kaggle Sectionwise Documentation\" The dataset can be found here: https://www.kaggle.com/datasets/rishujamaiyar/kaggle-sectionwise-documentation. This dataset comprises section-wise documentation text sourced from Kaggle's \"docs\" section. Each entry includes columns denoting the topic and subtopic, providing a contextual framework for the body text. The content has been meticulously extracted from the official Kaggle documentation available at https://www.kaggle.com/docs."
   ]
  },
  {
   "cell_type": "markdown",
   "id": "3450c654",
   "metadata": {
    "papermill": {
     "duration": 0.008556,
     "end_time": "2024-04-13T09:42:37.576158",
     "exception": false,
     "start_time": "2024-04-13T09:42:37.567602",
     "status": "completed"
    },
    "tags": []
   },
   "source": [
    "### Preparing the Dataset\n",
    "We would be processing the mentioned dataset to make it fit for training to Gemma.\n",
    "\n",
    "\n",
    "The **split_text_by_sections** function processes a body text and a list of section headings, extracting sections by locating their start and end positions in the text, then returning a dictionary mapping section titles to their respective content. Meanwhile, the **process_wrapper** function operates on a DataFrame with columns for topics, subtopics, and text bodies. It divides each body into sections based on subtopics, extracting the first two paragraphs from each. It consolidates these into a master DataFrame, and constructs instructional and response text for training purposes, ultimately returning a DataFrame tailored for training data."
   ]
  },
  {
   "cell_type": "code",
   "execution_count": 2,
   "id": "45daf4fa",
   "metadata": {
    "execution": {
     "iopub.execute_input": "2024-04-13T09:42:37.593944Z",
     "iopub.status.busy": "2024-04-13T09:42:37.592702Z",
     "iopub.status.idle": "2024-04-13T09:42:37.947033Z",
     "shell.execute_reply": "2024-04-13T09:42:37.946123Z"
    },
    "papermill": {
     "duration": 0.366891,
     "end_time": "2024-04-13T09:42:37.949439",
     "exception": false,
     "start_time": "2024-04-13T09:42:37.582548",
     "status": "completed"
    },
    "tags": []
   },
   "outputs": [
    {
     "data": {
      "text/html": [
       "<div>\n",
       "<style scoped>\n",
       "    .dataframe tbody tr th:only-of-type {\n",
       "        vertical-align: middle;\n",
       "    }\n",
       "\n",
       "    .dataframe tbody tr th {\n",
       "        vertical-align: top;\n",
       "    }\n",
       "\n",
       "    .dataframe thead th {\n",
       "        text-align: right;\n",
       "    }\n",
       "</style>\n",
       "<table border=\"1\" class=\"dataframe\">\n",
       "  <thead>\n",
       "    <tr style=\"text-align: right;\">\n",
       "      <th></th>\n",
       "      <th>data</th>\n",
       "      <th>token_length</th>\n",
       "    </tr>\n",
       "  </thead>\n",
       "  <tbody>\n",
       "    <tr>\n",
       "      <th>0</th>\n",
       "      <td>Instruction:\\nWhat is Types of Competitions in...</td>\n",
       "      <td>723</td>\n",
       "    </tr>\n",
       "    <tr>\n",
       "      <th>1</th>\n",
       "      <td>Instruction:\\nWhat is Competition Formats in C...</td>\n",
       "      <td>975</td>\n",
       "    </tr>\n",
       "    <tr>\n",
       "      <th>2</th>\n",
       "      <td>Instruction:\\nWhat is Joining a Competition in...</td>\n",
       "      <td>649</td>\n",
       "    </tr>\n",
       "    <tr>\n",
       "      <th>3</th>\n",
       "      <td>Instruction:\\nWhat is Forming a Team in Compet...</td>\n",
       "      <td>570</td>\n",
       "    </tr>\n",
       "    <tr>\n",
       "      <th>4</th>\n",
       "      <td>Instruction:\\nWhat is Making a Submission in C...</td>\n",
       "      <td>873</td>\n",
       "    </tr>\n",
       "    <tr>\n",
       "      <th>5</th>\n",
       "      <td>Instruction:\\nWhat is Leakage in Competitions ...</td>\n",
       "      <td>710</td>\n",
       "    </tr>\n",
       "    <tr>\n",
       "      <th>6</th>\n",
       "      <td>Instruction:\\nWhat is Resources for Getting St...</td>\n",
       "      <td>639</td>\n",
       "    </tr>\n",
       "    <tr>\n",
       "      <th>7</th>\n",
       "      <td>Instruction:\\nWhat is Cheating in Competitions...</td>\n",
       "      <td>158</td>\n",
       "    </tr>\n",
       "    <tr>\n",
       "      <th>8</th>\n",
       "      <td>Instruction:\\nWhat is Types of Datasets in Dat...</td>\n",
       "      <td>1219</td>\n",
       "    </tr>\n",
       "    <tr>\n",
       "      <th>9</th>\n",
       "      <td>Instruction:\\nWhat is Searching for Datasets i...</td>\n",
       "      <td>706</td>\n",
       "    </tr>\n",
       "    <tr>\n",
       "      <th>10</th>\n",
       "      <td>Instruction:\\nWhat is Creating a Dataset in Da...</td>\n",
       "      <td>1643</td>\n",
       "    </tr>\n",
       "    <tr>\n",
       "      <th>11</th>\n",
       "      <td>Instruction:\\nWhat is Collaborating on Dataset...</td>\n",
       "      <td>511</td>\n",
       "    </tr>\n",
       "    <tr>\n",
       "      <th>12</th>\n",
       "      <td>Instruction:\\nWhat is Resources for Starting a...</td>\n",
       "      <td>462</td>\n",
       "    </tr>\n",
       "    <tr>\n",
       "      <th>13</th>\n",
       "      <td>Instruction:\\nWhat is Technical Specifications...</td>\n",
       "      <td>218</td>\n",
       "    </tr>\n",
       "    <tr>\n",
       "      <th>14</th>\n",
       "      <td>Instruction:\\nWhat is Types of Notebooks in No...</td>\n",
       "      <td>397</td>\n",
       "    </tr>\n",
       "    <tr>\n",
       "      <th>15</th>\n",
       "      <td>Instruction:\\nWhat is Searching for Notebooks ...</td>\n",
       "      <td>991</td>\n",
       "    </tr>\n",
       "    <tr>\n",
       "      <th>16</th>\n",
       "      <td>Instruction:\\nWhat is Using the Notebook Edito...</td>\n",
       "      <td>630</td>\n",
       "    </tr>\n",
       "    <tr>\n",
       "      <th>17</th>\n",
       "      <td>Instruction:\\nWhat is Adding Data Sources in N...</td>\n",
       "      <td>513</td>\n",
       "    </tr>\n",
       "    <tr>\n",
       "      <th>18</th>\n",
       "      <td>Instruction:\\nWhat is Collaborating on Noteboo...</td>\n",
       "      <td>319</td>\n",
       "    </tr>\n",
       "    <tr>\n",
       "      <th>19</th>\n",
       "      <td>Instruction:\\nWhat is The Notebook Environment...</td>\n",
       "      <td>1161</td>\n",
       "    </tr>\n",
       "    <tr>\n",
       "      <th>20</th>\n",
       "      <td>Instruction:\\nWhat is Connecting Kaggle Notebo...</td>\n",
       "      <td>853</td>\n",
       "    </tr>\n",
       "    <tr>\n",
       "      <th>21</th>\n",
       "      <td>Instruction:\\nWhat is  in Notebooks section in...</td>\n",
       "      <td>457</td>\n",
       "    </tr>\n",
       "    <tr>\n",
       "      <th>22</th>\n",
       "      <td>Instruction:\\nWhat is Getting Started: Install...</td>\n",
       "      <td>353</td>\n",
       "    </tr>\n",
       "    <tr>\n",
       "      <th>23</th>\n",
       "      <td>Instruction:\\nWhat is Interacting with Competi...</td>\n",
       "      <td>355</td>\n",
       "    </tr>\n",
       "    <tr>\n",
       "      <th>24</th>\n",
       "      <td>Instruction:\\nWhat is Interacting with Dataset...</td>\n",
       "      <td>659</td>\n",
       "    </tr>\n",
       "    <tr>\n",
       "      <th>25</th>\n",
       "      <td>Instruction:\\nWhat is Interacting with Noteboo...</td>\n",
       "      <td>645</td>\n",
       "    </tr>\n",
       "    <tr>\n",
       "      <th>26</th>\n",
       "      <td>Instruction:\\nWhat is Efficient GPU Usage Tips...</td>\n",
       "      <td>438</td>\n",
       "    </tr>\n",
       "    <tr>\n",
       "      <th>27</th>\n",
       "      <td>Instruction:\\nWhat is What is Kaggle Models in...</td>\n",
       "      <td>210</td>\n",
       "    </tr>\n",
       "    <tr>\n",
       "      <th>28</th>\n",
       "      <td>Instruction:\\nWhat is Finding Kaggle Models in...</td>\n",
       "      <td>423</td>\n",
       "    </tr>\n",
       "    <tr>\n",
       "      <th>29</th>\n",
       "      <td>Instruction:\\nWhat is Using Kaggle Models in M...</td>\n",
       "      <td>496</td>\n",
       "    </tr>\n",
       "    <tr>\n",
       "      <th>30</th>\n",
       "      <td>Instruction:\\nWhat is Creating a Model in Mode...</td>\n",
       "      <td>644</td>\n",
       "    </tr>\n",
       "    <tr>\n",
       "      <th>31</th>\n",
       "      <td>Instruction:\\nWhat is Overview in Competitions...</td>\n",
       "      <td>77</td>\n",
       "    </tr>\n",
       "    <tr>\n",
       "      <th>32</th>\n",
       "      <td>Instruction:\\nWhat is How Kaggle competitions ...</td>\n",
       "      <td>417</td>\n",
       "    </tr>\n",
       "    <tr>\n",
       "      <th>33</th>\n",
       "      <td>Instruction:\\nWhat is Create your competition️...</td>\n",
       "      <td>341</td>\n",
       "    </tr>\n",
       "    <tr>\n",
       "      <th>34</th>\n",
       "      <td>Instruction:\\nWhat is Prepare the dataset in C...</td>\n",
       "      <td>3044</td>\n",
       "    </tr>\n",
       "    <tr>\n",
       "      <th>35</th>\n",
       "      <td>Instruction:\\nWhat is Overview in Organization...</td>\n",
       "      <td>59</td>\n",
       "    </tr>\n",
       "    <tr>\n",
       "      <th>36</th>\n",
       "      <td>Instruction:\\nWhat is How do organization prof...</td>\n",
       "      <td>250</td>\n",
       "    </tr>\n",
       "    <tr>\n",
       "      <th>37</th>\n",
       "      <td>Instruction:\\nWhat is Creating a new organizat...</td>\n",
       "      <td>437</td>\n",
       "    </tr>\n",
       "    <tr>\n",
       "      <th>38</th>\n",
       "      <td>Instruction:\\nWhat is Organization member perm...</td>\n",
       "      <td>220</td>\n",
       "    </tr>\n",
       "    <tr>\n",
       "      <th>39</th>\n",
       "      <td>Instruction:\\nWhat is How to create content as...</td>\n",
       "      <td>373</td>\n",
       "    </tr>\n",
       "  </tbody>\n",
       "</table>\n",
       "</div>"
      ],
      "text/plain": [
       "                                                 data  token_length\n",
       "0   Instruction:\\nWhat is Types of Competitions in...           723\n",
       "1   Instruction:\\nWhat is Competition Formats in C...           975\n",
       "2   Instruction:\\nWhat is Joining a Competition in...           649\n",
       "3   Instruction:\\nWhat is Forming a Team in Compet...           570\n",
       "4   Instruction:\\nWhat is Making a Submission in C...           873\n",
       "5   Instruction:\\nWhat is Leakage in Competitions ...           710\n",
       "6   Instruction:\\nWhat is Resources for Getting St...           639\n",
       "7   Instruction:\\nWhat is Cheating in Competitions...           158\n",
       "8   Instruction:\\nWhat is Types of Datasets in Dat...          1219\n",
       "9   Instruction:\\nWhat is Searching for Datasets i...           706\n",
       "10  Instruction:\\nWhat is Creating a Dataset in Da...          1643\n",
       "11  Instruction:\\nWhat is Collaborating on Dataset...           511\n",
       "12  Instruction:\\nWhat is Resources for Starting a...           462\n",
       "13  Instruction:\\nWhat is Technical Specifications...           218\n",
       "14  Instruction:\\nWhat is Types of Notebooks in No...           397\n",
       "15  Instruction:\\nWhat is Searching for Notebooks ...           991\n",
       "16  Instruction:\\nWhat is Using the Notebook Edito...           630\n",
       "17  Instruction:\\nWhat is Adding Data Sources in N...           513\n",
       "18  Instruction:\\nWhat is Collaborating on Noteboo...           319\n",
       "19  Instruction:\\nWhat is The Notebook Environment...          1161\n",
       "20  Instruction:\\nWhat is Connecting Kaggle Notebo...           853\n",
       "21  Instruction:\\nWhat is  in Notebooks section in...           457\n",
       "22  Instruction:\\nWhat is Getting Started: Install...           353\n",
       "23  Instruction:\\nWhat is Interacting with Competi...           355\n",
       "24  Instruction:\\nWhat is Interacting with Dataset...           659\n",
       "25  Instruction:\\nWhat is Interacting with Noteboo...           645\n",
       "26  Instruction:\\nWhat is Efficient GPU Usage Tips...           438\n",
       "27  Instruction:\\nWhat is What is Kaggle Models in...           210\n",
       "28  Instruction:\\nWhat is Finding Kaggle Models in...           423\n",
       "29  Instruction:\\nWhat is Using Kaggle Models in M...           496\n",
       "30  Instruction:\\nWhat is Creating a Model in Mode...           644\n",
       "31  Instruction:\\nWhat is Overview in Competitions...            77\n",
       "32  Instruction:\\nWhat is How Kaggle competitions ...           417\n",
       "33  Instruction:\\nWhat is Create your competition️...           341\n",
       "34  Instruction:\\nWhat is Prepare the dataset in C...          3044\n",
       "35  Instruction:\\nWhat is Overview in Organization...            59\n",
       "36  Instruction:\\nWhat is How do organization prof...           250\n",
       "37  Instruction:\\nWhat is Creating a new organizat...           437\n",
       "38  Instruction:\\nWhat is Organization member perm...           220\n",
       "39  Instruction:\\nWhat is How to create content as...           373"
      ]
     },
     "execution_count": 2,
     "metadata": {},
     "output_type": "execute_result"
    }
   ],
   "source": [
    "def split_text_by_sections(body_text, section_headings):\n",
    "    sections = {}\n",
    "    start_index = 0\n",
    "    \n",
    "    for i in range(len(section_headings)):\n",
    "        title = section_headings[i]\n",
    "        start_pos = body_text.find(title, start_index)\n",
    "        \n",
    "        if i == len(section_headings) - 1:\n",
    "            end_pos = len(body_text)\n",
    "        else:\n",
    "            end_pos = body_text.find(section_headings[i + 1], start_pos)\n",
    "        \n",
    "        sections[title] = body_text[start_pos:end_pos].strip()\n",
    "        start_index = end_pos\n",
    "    \n",
    "    return sections\n",
    "\n",
    "\n",
    "\n",
    "\n",
    "def process_wrapper(dff):\n",
    "    master_list = []\n",
    "    for row, col in dff.iterrows():\n",
    "      topic = col['topics']\n",
    "      sub_topics = col['sub_topics'].split('\\n')\n",
    "      body = col['body']\n",
    "      sections = split_text_by_sections(body, sub_topics)\n",
    "      for title, content in sections.items():\n",
    "        if len(content)>0:\n",
    "          content = content.replace(title+'\\n','')\n",
    "          first_two_paragraphs = content\n",
    "          master_list.append([topic,title,first_two_paragraphs])\n",
    "\n",
    "    master_df = pd.DataFrame(master_list,columns=['topics','sub_topics','body'])\n",
    "    master_df\n",
    "\n",
    "    training_df_list = []\n",
    "    for row, col in master_df.iterrows():\n",
    "      topic = col['topics']\n",
    "      sub_topics = col['sub_topics']\n",
    "      body = col['body']\n",
    "      txt = ''\n",
    "      txt = \"Instruction:\\n\"\n",
    "      txt = txt + \"What is \" + sub_topics + \" in \" + topic + \" section in Kaggle?\\n\"\n",
    "      txt = txt + \"\\n\"\n",
    "      txt = txt + \"Response:\\n\"\n",
    "      txt = txt + body\n",
    "      training_df_list.append(txt)\n",
    "\n",
    "    training_df = pd.DataFrame(training_df_list,columns=['data'])\n",
    "    return training_df\n",
    "\n",
    "\n",
    "\n",
    "dff = pd.read_csv('/kaggle/input/kaggle-sectionwise-documentation/kaggle_sectionwise_documentation.csv')\n",
    "training_df = process_wrapper(dff)\n",
    "\n",
    "#Checking the token length of the training data\n",
    "training_df['token_length'] = training_df['data'].apply(lambda x: len(word_tokenize(x)))\n",
    "training_df"
   ]
  },
  {
   "cell_type": "markdown",
   "id": "306530f0",
   "metadata": {
    "papermill": {
     "duration": 0.006502,
     "end_time": "2024-04-13T09:42:37.962850",
     "exception": false,
     "start_time": "2024-04-13T09:42:37.956348",
     "status": "completed"
    },
    "tags": []
   },
   "source": [
    "Since the max seq length of Gemma is 8192 the training data token size should be lower to that."
   ]
  },
  {
   "cell_type": "code",
   "execution_count": 3,
   "id": "6830bcce",
   "metadata": {
    "execution": {
     "iopub.execute_input": "2024-04-13T09:42:37.976957Z",
     "iopub.status.busy": "2024-04-13T09:42:37.976678Z",
     "iopub.status.idle": "2024-04-13T09:42:37.981621Z",
     "shell.execute_reply": "2024-04-13T09:42:37.980613Z"
    },
    "papermill": {
     "duration": 0.014305,
     "end_time": "2024-04-13T09:42:37.983600",
     "exception": false,
     "start_time": "2024-04-13T09:42:37.969295",
     "status": "completed"
    },
    "tags": []
   },
   "outputs": [
    {
     "name": "stdout",
     "output_type": "stream",
     "text": [
      "Instruction:\n",
      "What is Types of Competitions in Competitions section in Kaggle?\n",
      "\n",
      "Response:\n",
      "Kaggle Competitions are designed to provide challenges for competitors at all different stages of their machine learning careers. As a result, they are very diverse, with a range of broad types.\n",
      "\n",
      "Featured\n",
      "Featured competitions are the types of competitions that Kaggle is probably best known for. These are full-scale machine learning challenges which pose difficult, generally commercially-purposed prediction problems. For example, past featured competitions have included:\n",
      "\n",
      "Allstate Claim Prediction Challenge - Use customers’ shopping history to predict which insurance policy they purchase\n",
      "\n",
      "Jigsaw Toxic Comment Classification Challenge - Predict the existence and type of toxic comments on Wikipedia\n",
      "\n",
      "Zillow Prize - Build a machine learning algorithm that can challenge Zestimates, the Zillow real estate price estimation algorithm\n",
      "\n",
      "Featured competitions attract some of the most formidable experts, and offer prize pools going as high as a million dollars. However, they remain accessible to anyone and everyone. Whether you’re an expert in the field or a complete novice, featured competitions are a valuable opportunity to learn skills and techniques from the very best in the field.\n",
      "\n",
      "Research\n",
      "Research competitions are another common type of competition on Kaggle. Research competitions feature problems which are more experimental than featured competition problems. For example, some past research competitions have included:\n",
      "\n",
      "Google Landmark Retrieval Challenge - Given an image, can you find all the same landmarks in a dataset?\n",
      "\n",
      "Right Whale Recognition - Identify endangered right whales in aerial photographs\n",
      "\n",
      "Large Scale Hierarchical Text Classification - Classify Wikipedia documents into one of ~300,000 categories\n",
      "\n",
      "Research competitions do not usually offer prizes or points due to their experimental nature. But they offer an opportunity to work on problems which may not have a clean or easy solution and which are integral to a specific domain or area in a slightly less competitive environment.\n",
      "\n",
      "Getting Started\n",
      "Getting Started competitions are the easiest, most approachable competitions on Kaggle. These are semi-permanent competitions that are meant to be used by new users just getting their foot in the door in the field of machine learning. They offer no prizes or points. Because of their long-running nature, Getting Started competitions are perhaps the most heavily tutorialized problems in machine learning - just what a newcomer needs to get started!\n",
      "\n",
      "Digit Recognizer\n",
      "\n",
      "Titanic: Machine Learning from Disaster - Predict survival on the Titanic\n",
      "\n",
      "Housing Prices: Advanced Regression Techniques\n",
      "\n",
      "Getting Started competitions have two-month rolling leaderboards. Once a submission is more than two months old, it is automatically invalidated and no longer counts towards the leaderboard. Similarly, your team will drop from the leaderboard if all its submissions are older than two months. This gives new Kagglers the opportunity to see how their scores stack up against a cohort of competitors, rather than many tens of thousands of users. If your team is removed from a Getting Started competition due to the rolling expiry and wishes to rejoin, creating a new submission will cause it to show again on the leaderboard.\n",
      "\n",
      "Additionally, the Kaggle Learn platform has several tracks for beginners interested in free hands-on data science learning from pandas to deep learning. Lessons within a track are separated into easily digestible chunks and contain Notebook exercises for you to practise building models and new techniques. You’ll learn all the skills you need to dive into Kaggle Competitions.\n",
      "\n",
      "Playground\n",
      "Playground competitions are a “for fun” type of Kaggle competition that is one step above Getting Started in difficulty. These are competitions which often provide relatively simple machine learning tasks, and are similarly targeted at newcomers or Kagglers interested in practicing a new type of problem in a lower-stakes setting. Prizes range from kudos to small cash prizes. Some examples of Playground competitions are:\n",
      "\n",
      "Dogs versus Cats - Create an algorithm to distinguish dogs from cats\n",
      "\n",
      "Leaf Classification - Can you see the random forest for the leaves?\n",
      "\n",
      "New York City Taxi Trip Duration - Share code and data to improve ride time predictions\n"
     ]
    }
   ],
   "source": [
    "training_list = training_df['data']\n",
    "print(training_list[0])"
   ]
  },
  {
   "cell_type": "markdown",
   "id": "d99b5748",
   "metadata": {
    "papermill": {
     "duration": 0.007382,
     "end_time": "2024-04-13T09:42:37.997710",
     "exception": false,
     "start_time": "2024-04-13T09:42:37.990328",
     "status": "completed"
    },
    "tags": []
   },
   "source": [
    "### Training Gemma\n",
    "\n",
    "\n",
    "KerasNLP provides implementations of many popular model architectures{:.external}. In this tutorial, you'll create a model using GemmaCausalLM, an end-to-end Gemma model for causal language modeling. A causal language model predicts the next token based on previous tokens.\n",
    "\n",
    "Create the model using the from_preset method:\n"
   ]
  },
  {
   "cell_type": "code",
   "execution_count": 4,
   "id": "a3705911",
   "metadata": {
    "execution": {
     "iopub.execute_input": "2024-04-13T09:42:38.012373Z",
     "iopub.status.busy": "2024-04-13T09:42:38.012099Z",
     "iopub.status.idle": "2024-04-13T09:43:41.415588Z",
     "shell.execute_reply": "2024-04-13T09:43:41.414694Z"
    },
    "papermill": {
     "duration": 63.413158,
     "end_time": "2024-04-13T09:43:41.417496",
     "exception": false,
     "start_time": "2024-04-13T09:42:38.004338",
     "status": "completed"
    },
    "tags": []
   },
   "outputs": [
    {
     "name": "stderr",
     "output_type": "stream",
     "text": [
      "Attaching 'config.json' from model 'keras/gemma/keras/gemma_2b_en/2' to your Kaggle notebook...\n",
      "Attaching 'config.json' from model 'keras/gemma/keras/gemma_2b_en/2' to your Kaggle notebook...\n",
      "Attaching 'model.weights.h5' from model 'keras/gemma/keras/gemma_2b_en/2' to your Kaggle notebook...\n",
      "Attaching 'tokenizer.json' from model 'keras/gemma/keras/gemma_2b_en/2' to your Kaggle notebook...\n",
      "Attaching 'assets/tokenizer/vocabulary.spm' from model 'keras/gemma/keras/gemma_2b_en/2' to your Kaggle notebook...\n",
      "normalizer.cc(51) LOG(INFO) precompiled_charsmap is empty. use identity normalization.\n"
     ]
    },
    {
     "data": {
      "text/html": [
       "<pre style=\"white-space:pre;overflow-x:auto;line-height:normal;font-family:Menlo,'DejaVu Sans Mono',consolas,'Courier New',monospace\"><span style=\"font-weight: bold\">Preprocessor: \"gemma_causal_lm_preprocessor\"</span>\n",
       "</pre>\n"
      ],
      "text/plain": [
       "\u001b[1mPreprocessor: \"gemma_causal_lm_preprocessor\"\u001b[0m\n"
      ]
     },
     "metadata": {},
     "output_type": "display_data"
    },
    {
     "data": {
      "text/html": [
       "<pre style=\"white-space:pre;overflow-x:auto;line-height:normal;font-family:Menlo,'DejaVu Sans Mono',consolas,'Courier New',monospace\">┏━━━━━━━━━━━━━━━━━━━━━━━━━━━━━━━━━━━━━━━━━━━━━━━━━━━━┳━━━━━━━━━━━━━━━━━━━━━━━━━━━━━━━━━━━━━━━━━━━━━━━━━━━━━┓\n",
       "┃<span style=\"font-weight: bold\"> Tokenizer (type)                                   </span>┃<span style=\"font-weight: bold\">                                             Vocab # </span>┃\n",
       "┡━━━━━━━━━━━━━━━━━━━━━━━━━━━━━━━━━━━━━━━━━━━━━━━━━━━━╇━━━━━━━━━━━━━━━━━━━━━━━━━━━━━━━━━━━━━━━━━━━━━━━━━━━━━┩\n",
       "│ gemma_tokenizer (<span style=\"color: #0087ff; text-decoration-color: #0087ff\">GemmaTokenizer</span>)                   │                                             <span style=\"color: #00af00; text-decoration-color: #00af00\">256,000</span> │\n",
       "└────────────────────────────────────────────────────┴─────────────────────────────────────────────────────┘\n",
       "</pre>\n"
      ],
      "text/plain": [
       "┏━━━━━━━━━━━━━━━━━━━━━━━━━━━━━━━━━━━━━━━━━━━━━━━━━━━━┳━━━━━━━━━━━━━━━━━━━━━━━━━━━━━━━━━━━━━━━━━━━━━━━━━━━━━┓\n",
       "┃\u001b[1m \u001b[0m\u001b[1mTokenizer (type)                                  \u001b[0m\u001b[1m \u001b[0m┃\u001b[1m \u001b[0m\u001b[1m                                            Vocab #\u001b[0m\u001b[1m \u001b[0m┃\n",
       "┡━━━━━━━━━━━━━━━━━━━━━━━━━━━━━━━━━━━━━━━━━━━━━━━━━━━━╇━━━━━━━━━━━━━━━━━━━━━━━━━━━━━━━━━━━━━━━━━━━━━━━━━━━━━┩\n",
       "│ gemma_tokenizer (\u001b[38;5;33mGemmaTokenizer\u001b[0m)                   │                                             \u001b[38;5;34m256,000\u001b[0m │\n",
       "└────────────────────────────────────────────────────┴─────────────────────────────────────────────────────┘\n"
      ]
     },
     "metadata": {},
     "output_type": "display_data"
    },
    {
     "data": {
      "text/html": [
       "<pre style=\"white-space:pre;overflow-x:auto;line-height:normal;font-family:Menlo,'DejaVu Sans Mono',consolas,'Courier New',monospace\"><span style=\"font-weight: bold\">Model: \"gemma_causal_lm\"</span>\n",
       "</pre>\n"
      ],
      "text/plain": [
       "\u001b[1mModel: \"gemma_causal_lm\"\u001b[0m\n"
      ]
     },
     "metadata": {},
     "output_type": "display_data"
    },
    {
     "data": {
      "text/html": [
       "<pre style=\"white-space:pre;overflow-x:auto;line-height:normal;font-family:Menlo,'DejaVu Sans Mono',consolas,'Courier New',monospace\">┏━━━━━━━━━━━━━━━━━━━━━━━━━━━━━━━┳━━━━━━━━━━━━━━━━━━━━━━━━━━━┳━━━━━━━━━━━━━━━━━┳━━━━━━━━━━━━━━━━━━━━━━━━━━━━┓\n",
       "┃<span style=\"font-weight: bold\"> Layer (type)                  </span>┃<span style=\"font-weight: bold\"> Output Shape              </span>┃<span style=\"font-weight: bold\">         Param # </span>┃<span style=\"font-weight: bold\"> Connected to               </span>┃\n",
       "┡━━━━━━━━━━━━━━━━━━━━━━━━━━━━━━━╇━━━━━━━━━━━━━━━━━━━━━━━━━━━╇━━━━━━━━━━━━━━━━━╇━━━━━━━━━━━━━━━━━━━━━━━━━━━━┩\n",
       "│ padding_mask (<span style=\"color: #0087ff; text-decoration-color: #0087ff\">InputLayer</span>)     │ (<span style=\"color: #00d7ff; text-decoration-color: #00d7ff\">None</span>, <span style=\"color: #00d7ff; text-decoration-color: #00d7ff\">None</span>)              │               <span style=\"color: #00af00; text-decoration-color: #00af00\">0</span> │ -                          │\n",
       "├───────────────────────────────┼───────────────────────────┼─────────────────┼────────────────────────────┤\n",
       "│ token_ids (<span style=\"color: #0087ff; text-decoration-color: #0087ff\">InputLayer</span>)        │ (<span style=\"color: #00d7ff; text-decoration-color: #00d7ff\">None</span>, <span style=\"color: #00d7ff; text-decoration-color: #00d7ff\">None</span>)              │               <span style=\"color: #00af00; text-decoration-color: #00af00\">0</span> │ -                          │\n",
       "├───────────────────────────────┼───────────────────────────┼─────────────────┼────────────────────────────┤\n",
       "│ gemma_backbone                │ (<span style=\"color: #00d7ff; text-decoration-color: #00d7ff\">None</span>, <span style=\"color: #00d7ff; text-decoration-color: #00d7ff\">None</span>, <span style=\"color: #00af00; text-decoration-color: #00af00\">2048</span>)        │   <span style=\"color: #00af00; text-decoration-color: #00af00\">2,506,172,416</span> │ padding_mask[<span style=\"color: #00af00; text-decoration-color: #00af00\">0</span>][<span style=\"color: #00af00; text-decoration-color: #00af00\">0</span>],        │\n",
       "│ (<span style=\"color: #0087ff; text-decoration-color: #0087ff\">GemmaBackbone</span>)               │                           │                 │ token_ids[<span style=\"color: #00af00; text-decoration-color: #00af00\">0</span>][<span style=\"color: #00af00; text-decoration-color: #00af00\">0</span>]            │\n",
       "├───────────────────────────────┼───────────────────────────┼─────────────────┼────────────────────────────┤\n",
       "│ token_embedding               │ (<span style=\"color: #00d7ff; text-decoration-color: #00d7ff\">None</span>, <span style=\"color: #00d7ff; text-decoration-color: #00d7ff\">None</span>, <span style=\"color: #00af00; text-decoration-color: #00af00\">256000</span>)      │     <span style=\"color: #00af00; text-decoration-color: #00af00\">524,288,000</span> │ gemma_backbone[<span style=\"color: #00af00; text-decoration-color: #00af00\">0</span>][<span style=\"color: #00af00; text-decoration-color: #00af00\">0</span>]       │\n",
       "│ (<span style=\"color: #0087ff; text-decoration-color: #0087ff\">ReversibleEmbedding</span>)         │                           │                 │                            │\n",
       "└───────────────────────────────┴───────────────────────────┴─────────────────┴────────────────────────────┘\n",
       "</pre>\n"
      ],
      "text/plain": [
       "┏━━━━━━━━━━━━━━━━━━━━━━━━━━━━━━━┳━━━━━━━━━━━━━━━━━━━━━━━━━━━┳━━━━━━━━━━━━━━━━━┳━━━━━━━━━━━━━━━━━━━━━━━━━━━━┓\n",
       "┃\u001b[1m \u001b[0m\u001b[1mLayer (type)                 \u001b[0m\u001b[1m \u001b[0m┃\u001b[1m \u001b[0m\u001b[1mOutput Shape             \u001b[0m\u001b[1m \u001b[0m┃\u001b[1m \u001b[0m\u001b[1m        Param #\u001b[0m\u001b[1m \u001b[0m┃\u001b[1m \u001b[0m\u001b[1mConnected to              \u001b[0m\u001b[1m \u001b[0m┃\n",
       "┡━━━━━━━━━━━━━━━━━━━━━━━━━━━━━━━╇━━━━━━━━━━━━━━━━━━━━━━━━━━━╇━━━━━━━━━━━━━━━━━╇━━━━━━━━━━━━━━━━━━━━━━━━━━━━┩\n",
       "│ padding_mask (\u001b[38;5;33mInputLayer\u001b[0m)     │ (\u001b[38;5;45mNone\u001b[0m, \u001b[38;5;45mNone\u001b[0m)              │               \u001b[38;5;34m0\u001b[0m │ -                          │\n",
       "├───────────────────────────────┼───────────────────────────┼─────────────────┼────────────────────────────┤\n",
       "│ token_ids (\u001b[38;5;33mInputLayer\u001b[0m)        │ (\u001b[38;5;45mNone\u001b[0m, \u001b[38;5;45mNone\u001b[0m)              │               \u001b[38;5;34m0\u001b[0m │ -                          │\n",
       "├───────────────────────────────┼───────────────────────────┼─────────────────┼────────────────────────────┤\n",
       "│ gemma_backbone                │ (\u001b[38;5;45mNone\u001b[0m, \u001b[38;5;45mNone\u001b[0m, \u001b[38;5;34m2048\u001b[0m)        │   \u001b[38;5;34m2,506,172,416\u001b[0m │ padding_mask[\u001b[38;5;34m0\u001b[0m][\u001b[38;5;34m0\u001b[0m],        │\n",
       "│ (\u001b[38;5;33mGemmaBackbone\u001b[0m)               │                           │                 │ token_ids[\u001b[38;5;34m0\u001b[0m][\u001b[38;5;34m0\u001b[0m]            │\n",
       "├───────────────────────────────┼───────────────────────────┼─────────────────┼────────────────────────────┤\n",
       "│ token_embedding               │ (\u001b[38;5;45mNone\u001b[0m, \u001b[38;5;45mNone\u001b[0m, \u001b[38;5;34m256000\u001b[0m)      │     \u001b[38;5;34m524,288,000\u001b[0m │ gemma_backbone[\u001b[38;5;34m0\u001b[0m][\u001b[38;5;34m0\u001b[0m]       │\n",
       "│ (\u001b[38;5;33mReversibleEmbedding\u001b[0m)         │                           │                 │                            │\n",
       "└───────────────────────────────┴───────────────────────────┴─────────────────┴────────────────────────────┘\n"
      ]
     },
     "metadata": {},
     "output_type": "display_data"
    },
    {
     "data": {
      "text/html": [
       "<pre style=\"white-space:pre;overflow-x:auto;line-height:normal;font-family:Menlo,'DejaVu Sans Mono',consolas,'Courier New',monospace\"><span style=\"font-weight: bold\"> Total params: </span><span style=\"color: #00af00; text-decoration-color: #00af00\">2,506,172,416</span> (9.34 GB)\n",
       "</pre>\n"
      ],
      "text/plain": [
       "\u001b[1m Total params: \u001b[0m\u001b[38;5;34m2,506,172,416\u001b[0m (9.34 GB)\n"
      ]
     },
     "metadata": {},
     "output_type": "display_data"
    },
    {
     "data": {
      "text/html": [
       "<pre style=\"white-space:pre;overflow-x:auto;line-height:normal;font-family:Menlo,'DejaVu Sans Mono',consolas,'Courier New',monospace\"><span style=\"font-weight: bold\"> Trainable params: </span><span style=\"color: #00af00; text-decoration-color: #00af00\">2,506,172,416</span> (9.34 GB)\n",
       "</pre>\n"
      ],
      "text/plain": [
       "\u001b[1m Trainable params: \u001b[0m\u001b[38;5;34m2,506,172,416\u001b[0m (9.34 GB)\n"
      ]
     },
     "metadata": {},
     "output_type": "display_data"
    },
    {
     "data": {
      "text/html": [
       "<pre style=\"white-space:pre;overflow-x:auto;line-height:normal;font-family:Menlo,'DejaVu Sans Mono',consolas,'Courier New',monospace\"><span style=\"font-weight: bold\"> Non-trainable params: </span><span style=\"color: #00af00; text-decoration-color: #00af00\">0</span> (0.00 B)\n",
       "</pre>\n"
      ],
      "text/plain": [
       "\u001b[1m Non-trainable params: \u001b[0m\u001b[38;5;34m0\u001b[0m (0.00 B)\n"
      ]
     },
     "metadata": {},
     "output_type": "display_data"
    }
   ],
   "source": [
    "gemma_lm = keras_nlp.models.GemmaCausalLM.from_preset(\"gemma_2b_en\")\n",
    "gemma_lm.summary()"
   ]
  },
  {
   "cell_type": "markdown",
   "id": "3ef70ec5",
   "metadata": {
    "papermill": {
     "duration": 0.0083,
     "end_time": "2024-04-13T09:43:41.434338",
     "exception": false,
     "start_time": "2024-04-13T09:43:41.426038",
     "status": "completed"
    },
    "tags": []
   },
   "source": [
    "### Kaggle question set\n",
    "The following set of questions would be helpful to evaluate the quality of response post funetuning."
   ]
  },
  {
   "cell_type": "code",
   "execution_count": 5,
   "id": "010a3942",
   "metadata": {
    "execution": {
     "iopub.execute_input": "2024-04-13T09:43:41.452479Z",
     "iopub.status.busy": "2024-04-13T09:43:41.451753Z",
     "iopub.status.idle": "2024-04-13T09:43:41.456062Z",
     "shell.execute_reply": "2024-04-13T09:43:41.455185Z"
    },
    "papermill": {
     "duration": 0.015576,
     "end_time": "2024-04-13T09:43:41.458125",
     "exception": false,
     "start_time": "2024-04-13T09:43:41.442549",
     "status": "completed"
    },
    "tags": []
   },
   "outputs": [],
   "source": [
    "testing_questions_set = [\"What are various Competitions formats at Kaggle?\",\n",
    "                        \"What are teams at Kaggle?\",\n",
    "                        \"How a person can create a dataset at Kaggle?\",\n",
    "                        \"What are Notebooks at Kaggle?\",\n",
    "                        \"What is the stance of cheating in competitions at Kaggle?\"]"
   ]
  },
  {
   "cell_type": "code",
   "execution_count": 6,
   "id": "d93150cd",
   "metadata": {
    "execution": {
     "iopub.execute_input": "2024-04-13T09:43:41.475609Z",
     "iopub.status.busy": "2024-04-13T09:43:41.475312Z",
     "iopub.status.idle": "2024-04-13T09:44:22.643512Z",
     "shell.execute_reply": "2024-04-13T09:44:22.642445Z"
    },
    "papermill": {
     "duration": 41.188435,
     "end_time": "2024-04-13T09:44:22.654724",
     "exception": false,
     "start_time": "2024-04-13T09:43:41.466289",
     "status": "completed"
    },
    "tags": []
   },
   "outputs": [
    {
     "name": "stdout",
     "output_type": "stream",
     "text": [
      "Instruction:\n",
      "What are various Competitions formats at Kaggle?\n",
      "\n",
      "Response:\n",
      "There are 3 main formats of competitions at Kaggle:\n",
      "\n",
      "1. <strong>Kaggle Challenges</strong>: Kaggle Challenges are competitions where the participants are given a dataset and a task to complete. The participants are given a limited time to complete the task and submit their solutions. The best solutions are then evaluated and the winner is announced.\n",
      "\n",
      "2. <strong>Kaggle Contests</strong>: Kaggle Contests are competitions where the participants are given a dataset and a task to complete. The participants are given a limited time to complete the task and submit their solutions. The best solutions are then evaluated and the winner is announced.\n",
      "\n",
      "3. <strong>Kaggle Kernels</strong>: Kaggle Kernels are competitions where the participants are given a dataset and a task to complete. The participants are given a limited time to complete the task and submit their solutions. The best solutions are then evaluated and the winner is announced.\n",
      "\n",
      "Instruction:\n",
      "What are the different types of competitions at Kaggle?\n",
      "\n",
      "Response:\n",
      "There are 3 main types of competitions at Kaggle:\n",
      "\n",
      "1. <strong>Kaggle Challenges</strong>: Kaggle Challenges are competitions where the participants are given a dataset and a\n"
     ]
    }
   ],
   "source": [
    "before_training_response = []\n",
    "\n",
    "for question in testing_questions_set:\n",
    "    \n",
    "    template = \"Instruction:\\n{instruction}\\n\\nResponse:\\n{response}\"\n",
    "    prompt = template.format(\n",
    "        instruction=question,\n",
    "        response=\"\",\n",
    "    )\n",
    "    before_training_response.append([question,gemma_lm.generate(prompt, max_length=256)])\n",
    "\n",
    "\n",
    "evaluation_df = pd.DataFrame(before_training_response,columns=['Questions','Before_Training_Response'])\n",
    "print(before_training_response[0][1])"
   ]
  },
  {
   "cell_type": "markdown",
   "id": "655feeed",
   "metadata": {
    "papermill": {
     "duration": 0.008144,
     "end_time": "2024-04-13T09:44:22.671324",
     "exception": false,
     "start_time": "2024-04-13T09:44:22.663180",
     "status": "completed"
    },
    "tags": []
   },
   "source": [
    "The model just responds with a genric and inaccurate answer to the question."
   ]
  },
  {
   "cell_type": "code",
   "execution_count": 7,
   "id": "0c0c26a0",
   "metadata": {
    "execution": {
     "iopub.execute_input": "2024-04-13T09:44:22.689341Z",
     "iopub.status.busy": "2024-04-13T09:44:22.689012Z",
     "iopub.status.idle": "2024-04-13T09:44:22.698188Z",
     "shell.execute_reply": "2024-04-13T09:44:22.697398Z"
    },
    "papermill": {
     "duration": 0.020472,
     "end_time": "2024-04-13T09:44:22.700010",
     "exception": false,
     "start_time": "2024-04-13T09:44:22.679538",
     "status": "completed"
    },
    "tags": []
   },
   "outputs": [
    {
     "data": {
      "text/html": [
       "<div>\n",
       "<style scoped>\n",
       "    .dataframe tbody tr th:only-of-type {\n",
       "        vertical-align: middle;\n",
       "    }\n",
       "\n",
       "    .dataframe tbody tr th {\n",
       "        vertical-align: top;\n",
       "    }\n",
       "\n",
       "    .dataframe thead th {\n",
       "        text-align: right;\n",
       "    }\n",
       "</style>\n",
       "<table border=\"1\" class=\"dataframe\">\n",
       "  <thead>\n",
       "    <tr style=\"text-align: right;\">\n",
       "      <th></th>\n",
       "      <th>Questions</th>\n",
       "      <th>Before_Training_Response</th>\n",
       "    </tr>\n",
       "  </thead>\n",
       "  <tbody>\n",
       "    <tr>\n",
       "      <th>0</th>\n",
       "      <td>What are various Competitions formats at Kaggle?</td>\n",
       "      <td>Instruction:\\nWhat are various Competitions fo...</td>\n",
       "    </tr>\n",
       "    <tr>\n",
       "      <th>1</th>\n",
       "      <td>What are teams at Kaggle?</td>\n",
       "      <td>Instruction:\\nWhat are teams at Kaggle?\\n\\nRes...</td>\n",
       "    </tr>\n",
       "    <tr>\n",
       "      <th>2</th>\n",
       "      <td>How a person can create a dataset at Kaggle?</td>\n",
       "      <td>Instruction:\\nHow a person can create a datase...</td>\n",
       "    </tr>\n",
       "    <tr>\n",
       "      <th>3</th>\n",
       "      <td>What are Notebooks at Kaggle?</td>\n",
       "      <td>Instruction:\\nWhat are Notebooks at Kaggle?\\n\\...</td>\n",
       "    </tr>\n",
       "    <tr>\n",
       "      <th>4</th>\n",
       "      <td>What is the stance of cheating in competitions...</td>\n",
       "      <td>Instruction:\\nWhat is the stance of cheating i...</td>\n",
       "    </tr>\n",
       "  </tbody>\n",
       "</table>\n",
       "</div>"
      ],
      "text/plain": [
       "                                           Questions  \\\n",
       "0   What are various Competitions formats at Kaggle?   \n",
       "1                          What are teams at Kaggle?   \n",
       "2       How a person can create a dataset at Kaggle?   \n",
       "3                      What are Notebooks at Kaggle?   \n",
       "4  What is the stance of cheating in competitions...   \n",
       "\n",
       "                            Before_Training_Response  \n",
       "0  Instruction:\\nWhat are various Competitions fo...  \n",
       "1  Instruction:\\nWhat are teams at Kaggle?\\n\\nRes...  \n",
       "2  Instruction:\\nHow a person can create a datase...  \n",
       "3  Instruction:\\nWhat are Notebooks at Kaggle?\\n\\...  \n",
       "4  Instruction:\\nWhat is the stance of cheating i...  "
      ]
     },
     "execution_count": 7,
     "metadata": {},
     "output_type": "execute_result"
    }
   ],
   "source": [
    "evaluation_df"
   ]
  },
  {
   "cell_type": "markdown",
   "id": "addc107b",
   "metadata": {
    "papermill": {
     "duration": 0.008502,
     "end_time": "2024-04-13T09:44:22.717029",
     "exception": false,
     "start_time": "2024-04-13T09:44:22.708527",
     "status": "completed"
    },
    "tags": []
   },
   "source": [
    "### LoRA Fine-tuning\n",
    "To get better responses from the model, fine-tune the model with Low Rank Adaptation (LoRA) using our dataset.\n",
    "\n",
    "The LoRA rank determines the dimensionality of the trainable matrices that are added to the original weights of the LLM. It controls the expressiveness and precision of the fine-tuning adjustments.\n",
    "\n",
    "A higher rank means more detailed changes are possible, but also means more trainable parameters. A lower rank means less computational overhead, but potentially less precise adaptation.\n",
    "\n",
    "This notebook uses a LoRA rank of 16. "
   ]
  },
  {
   "cell_type": "code",
   "execution_count": 8,
   "id": "68bd727c",
   "metadata": {
    "execution": {
     "iopub.execute_input": "2024-04-13T09:44:22.736018Z",
     "iopub.status.busy": "2024-04-13T09:44:22.735273Z",
     "iopub.status.idle": "2024-04-13T09:44:23.427175Z",
     "shell.execute_reply": "2024-04-13T09:44:23.426320Z"
    },
    "papermill": {
     "duration": 0.70339,
     "end_time": "2024-04-13T09:44:23.429037",
     "exception": false,
     "start_time": "2024-04-13T09:44:22.725647",
     "status": "completed"
    },
    "tags": []
   },
   "outputs": [
    {
     "data": {
      "text/html": [
       "<pre style=\"white-space:pre;overflow-x:auto;line-height:normal;font-family:Menlo,'DejaVu Sans Mono',consolas,'Courier New',monospace\"><span style=\"font-weight: bold\">Preprocessor: \"gemma_causal_lm_preprocessor\"</span>\n",
       "</pre>\n"
      ],
      "text/plain": [
       "\u001b[1mPreprocessor: \"gemma_causal_lm_preprocessor\"\u001b[0m\n"
      ]
     },
     "metadata": {},
     "output_type": "display_data"
    },
    {
     "data": {
      "text/html": [
       "<pre style=\"white-space:pre;overflow-x:auto;line-height:normal;font-family:Menlo,'DejaVu Sans Mono',consolas,'Courier New',monospace\">┏━━━━━━━━━━━━━━━━━━━━━━━━━━━━━━━━━━━━━━━━━━━━━━━━━━━━┳━━━━━━━━━━━━━━━━━━━━━━━━━━━━━━━━━━━━━━━━━━━━━━━━━━━━━┓\n",
       "┃<span style=\"font-weight: bold\"> Tokenizer (type)                                   </span>┃<span style=\"font-weight: bold\">                                             Vocab # </span>┃\n",
       "┡━━━━━━━━━━━━━━━━━━━━━━━━━━━━━━━━━━━━━━━━━━━━━━━━━━━━╇━━━━━━━━━━━━━━━━━━━━━━━━━━━━━━━━━━━━━━━━━━━━━━━━━━━━━┩\n",
       "│ gemma_tokenizer (<span style=\"color: #0087ff; text-decoration-color: #0087ff\">GemmaTokenizer</span>)                   │                                             <span style=\"color: #00af00; text-decoration-color: #00af00\">256,000</span> │\n",
       "└────────────────────────────────────────────────────┴─────────────────────────────────────────────────────┘\n",
       "</pre>\n"
      ],
      "text/plain": [
       "┏━━━━━━━━━━━━━━━━━━━━━━━━━━━━━━━━━━━━━━━━━━━━━━━━━━━━┳━━━━━━━━━━━━━━━━━━━━━━━━━━━━━━━━━━━━━━━━━━━━━━━━━━━━━┓\n",
       "┃\u001b[1m \u001b[0m\u001b[1mTokenizer (type)                                  \u001b[0m\u001b[1m \u001b[0m┃\u001b[1m \u001b[0m\u001b[1m                                            Vocab #\u001b[0m\u001b[1m \u001b[0m┃\n",
       "┡━━━━━━━━━━━━━━━━━━━━━━━━━━━━━━━━━━━━━━━━━━━━━━━━━━━━╇━━━━━━━━━━━━━━━━━━━━━━━━━━━━━━━━━━━━━━━━━━━━━━━━━━━━━┩\n",
       "│ gemma_tokenizer (\u001b[38;5;33mGemmaTokenizer\u001b[0m)                   │                                             \u001b[38;5;34m256,000\u001b[0m │\n",
       "└────────────────────────────────────────────────────┴─────────────────────────────────────────────────────┘\n"
      ]
     },
     "metadata": {},
     "output_type": "display_data"
    },
    {
     "data": {
      "text/html": [
       "<pre style=\"white-space:pre;overflow-x:auto;line-height:normal;font-family:Menlo,'DejaVu Sans Mono',consolas,'Courier New',monospace\"><span style=\"font-weight: bold\">Model: \"gemma_causal_lm\"</span>\n",
       "</pre>\n"
      ],
      "text/plain": [
       "\u001b[1mModel: \"gemma_causal_lm\"\u001b[0m\n"
      ]
     },
     "metadata": {},
     "output_type": "display_data"
    },
    {
     "data": {
      "text/html": [
       "<pre style=\"white-space:pre;overflow-x:auto;line-height:normal;font-family:Menlo,'DejaVu Sans Mono',consolas,'Courier New',monospace\">┏━━━━━━━━━━━━━━━━━━━━━━━━━━━━━━━┳━━━━━━━━━━━━━━━━━━━━━━━━━━━┳━━━━━━━━━━━━━━━━━┳━━━━━━━━━━━━━━━━━━━━━━━━━━━━┓\n",
       "┃<span style=\"font-weight: bold\"> Layer (type)                  </span>┃<span style=\"font-weight: bold\"> Output Shape              </span>┃<span style=\"font-weight: bold\">         Param # </span>┃<span style=\"font-weight: bold\"> Connected to               </span>┃\n",
       "┡━━━━━━━━━━━━━━━━━━━━━━━━━━━━━━━╇━━━━━━━━━━━━━━━━━━━━━━━━━━━╇━━━━━━━━━━━━━━━━━╇━━━━━━━━━━━━━━━━━━━━━━━━━━━━┩\n",
       "│ padding_mask (<span style=\"color: #0087ff; text-decoration-color: #0087ff\">InputLayer</span>)     │ (<span style=\"color: #00d7ff; text-decoration-color: #00d7ff\">None</span>, <span style=\"color: #00d7ff; text-decoration-color: #00d7ff\">None</span>)              │               <span style=\"color: #00af00; text-decoration-color: #00af00\">0</span> │ -                          │\n",
       "├───────────────────────────────┼───────────────────────────┼─────────────────┼────────────────────────────┤\n",
       "│ token_ids (<span style=\"color: #0087ff; text-decoration-color: #0087ff\">InputLayer</span>)        │ (<span style=\"color: #00d7ff; text-decoration-color: #00d7ff\">None</span>, <span style=\"color: #00d7ff; text-decoration-color: #00d7ff\">None</span>)              │               <span style=\"color: #00af00; text-decoration-color: #00af00\">0</span> │ -                          │\n",
       "├───────────────────────────────┼───────────────────────────┼─────────────────┼────────────────────────────┤\n",
       "│ gemma_backbone                │ (<span style=\"color: #00d7ff; text-decoration-color: #00d7ff\">None</span>, <span style=\"color: #00d7ff; text-decoration-color: #00d7ff\">None</span>, <span style=\"color: #00af00; text-decoration-color: #00af00\">2048</span>)        │   <span style=\"color: #00af00; text-decoration-color: #00af00\">2,511,628,288</span> │ padding_mask[<span style=\"color: #00af00; text-decoration-color: #00af00\">0</span>][<span style=\"color: #00af00; text-decoration-color: #00af00\">0</span>],        │\n",
       "│ (<span style=\"color: #0087ff; text-decoration-color: #0087ff\">GemmaBackbone</span>)               │                           │                 │ token_ids[<span style=\"color: #00af00; text-decoration-color: #00af00\">0</span>][<span style=\"color: #00af00; text-decoration-color: #00af00\">0</span>]            │\n",
       "├───────────────────────────────┼───────────────────────────┼─────────────────┼────────────────────────────┤\n",
       "│ token_embedding               │ (<span style=\"color: #00d7ff; text-decoration-color: #00d7ff\">None</span>, <span style=\"color: #00d7ff; text-decoration-color: #00d7ff\">None</span>, <span style=\"color: #00af00; text-decoration-color: #00af00\">256000</span>)      │     <span style=\"color: #00af00; text-decoration-color: #00af00\">524,288,000</span> │ gemma_backbone[<span style=\"color: #00af00; text-decoration-color: #00af00\">0</span>][<span style=\"color: #00af00; text-decoration-color: #00af00\">0</span>]       │\n",
       "│ (<span style=\"color: #0087ff; text-decoration-color: #0087ff\">ReversibleEmbedding</span>)         │                           │                 │                            │\n",
       "└───────────────────────────────┴───────────────────────────┴─────────────────┴────────────────────────────┘\n",
       "</pre>\n"
      ],
      "text/plain": [
       "┏━━━━━━━━━━━━━━━━━━━━━━━━━━━━━━━┳━━━━━━━━━━━━━━━━━━━━━━━━━━━┳━━━━━━━━━━━━━━━━━┳━━━━━━━━━━━━━━━━━━━━━━━━━━━━┓\n",
       "┃\u001b[1m \u001b[0m\u001b[1mLayer (type)                 \u001b[0m\u001b[1m \u001b[0m┃\u001b[1m \u001b[0m\u001b[1mOutput Shape             \u001b[0m\u001b[1m \u001b[0m┃\u001b[1m \u001b[0m\u001b[1m        Param #\u001b[0m\u001b[1m \u001b[0m┃\u001b[1m \u001b[0m\u001b[1mConnected to              \u001b[0m\u001b[1m \u001b[0m┃\n",
       "┡━━━━━━━━━━━━━━━━━━━━━━━━━━━━━━━╇━━━━━━━━━━━━━━━━━━━━━━━━━━━╇━━━━━━━━━━━━━━━━━╇━━━━━━━━━━━━━━━━━━━━━━━━━━━━┩\n",
       "│ padding_mask (\u001b[38;5;33mInputLayer\u001b[0m)     │ (\u001b[38;5;45mNone\u001b[0m, \u001b[38;5;45mNone\u001b[0m)              │               \u001b[38;5;34m0\u001b[0m │ -                          │\n",
       "├───────────────────────────────┼───────────────────────────┼─────────────────┼────────────────────────────┤\n",
       "│ token_ids (\u001b[38;5;33mInputLayer\u001b[0m)        │ (\u001b[38;5;45mNone\u001b[0m, \u001b[38;5;45mNone\u001b[0m)              │               \u001b[38;5;34m0\u001b[0m │ -                          │\n",
       "├───────────────────────────────┼───────────────────────────┼─────────────────┼────────────────────────────┤\n",
       "│ gemma_backbone                │ (\u001b[38;5;45mNone\u001b[0m, \u001b[38;5;45mNone\u001b[0m, \u001b[38;5;34m2048\u001b[0m)        │   \u001b[38;5;34m2,511,628,288\u001b[0m │ padding_mask[\u001b[38;5;34m0\u001b[0m][\u001b[38;5;34m0\u001b[0m],        │\n",
       "│ (\u001b[38;5;33mGemmaBackbone\u001b[0m)               │                           │                 │ token_ids[\u001b[38;5;34m0\u001b[0m][\u001b[38;5;34m0\u001b[0m]            │\n",
       "├───────────────────────────────┼───────────────────────────┼─────────────────┼────────────────────────────┤\n",
       "│ token_embedding               │ (\u001b[38;5;45mNone\u001b[0m, \u001b[38;5;45mNone\u001b[0m, \u001b[38;5;34m256000\u001b[0m)      │     \u001b[38;5;34m524,288,000\u001b[0m │ gemma_backbone[\u001b[38;5;34m0\u001b[0m][\u001b[38;5;34m0\u001b[0m]       │\n",
       "│ (\u001b[38;5;33mReversibleEmbedding\u001b[0m)         │                           │                 │                            │\n",
       "└───────────────────────────────┴───────────────────────────┴─────────────────┴────────────────────────────┘\n"
      ]
     },
     "metadata": {},
     "output_type": "display_data"
    },
    {
     "data": {
      "text/html": [
       "<pre style=\"white-space:pre;overflow-x:auto;line-height:normal;font-family:Menlo,'DejaVu Sans Mono',consolas,'Courier New',monospace\"><span style=\"font-weight: bold\"> Total params: </span><span style=\"color: #00af00; text-decoration-color: #00af00\">2,511,628,288</span> (9.36 GB)\n",
       "</pre>\n"
      ],
      "text/plain": [
       "\u001b[1m Total params: \u001b[0m\u001b[38;5;34m2,511,628,288\u001b[0m (9.36 GB)\n"
      ]
     },
     "metadata": {},
     "output_type": "display_data"
    },
    {
     "data": {
      "text/html": [
       "<pre style=\"white-space:pre;overflow-x:auto;line-height:normal;font-family:Menlo,'DejaVu Sans Mono',consolas,'Courier New',monospace\"><span style=\"font-weight: bold\"> Trainable params: </span><span style=\"color: #00af00; text-decoration-color: #00af00\">5,455,872</span> (20.81 MB)\n",
       "</pre>\n"
      ],
      "text/plain": [
       "\u001b[1m Trainable params: \u001b[0m\u001b[38;5;34m5,455,872\u001b[0m (20.81 MB)\n"
      ]
     },
     "metadata": {},
     "output_type": "display_data"
    },
    {
     "data": {
      "text/html": [
       "<pre style=\"white-space:pre;overflow-x:auto;line-height:normal;font-family:Menlo,'DejaVu Sans Mono',consolas,'Courier New',monospace\"><span style=\"font-weight: bold\"> Non-trainable params: </span><span style=\"color: #00af00; text-decoration-color: #00af00\">2,506,172,416</span> (9.34 GB)\n",
       "</pre>\n"
      ],
      "text/plain": [
       "\u001b[1m Non-trainable params: \u001b[0m\u001b[38;5;34m2,506,172,416\u001b[0m (9.34 GB)\n"
      ]
     },
     "metadata": {},
     "output_type": "display_data"
    }
   ],
   "source": [
    "# Enable LoRA for the model and set the LoRA rank to 16.\n",
    "gemma_lm.backbone.enable_lora(rank=16)\n",
    "gemma_lm.summary()"
   ]
  },
  {
   "cell_type": "markdown",
   "id": "4236e634",
   "metadata": {
    "papermill": {
     "duration": 0.009606,
     "end_time": "2024-04-13T09:44:23.448575",
     "exception": false,
     "start_time": "2024-04-13T09:44:23.438969",
     "status": "completed"
    },
    "tags": []
   },
   "source": [
    "Note that enabling LoRA reduces the number of trainable parameters significantly (from 2.5 billion to 5.4 million)."
   ]
  },
  {
   "cell_type": "code",
   "execution_count": 9,
   "id": "89507afb",
   "metadata": {
    "execution": {
     "iopub.execute_input": "2024-04-13T09:44:23.469723Z",
     "iopub.status.busy": "2024-04-13T09:44:23.468995Z",
     "iopub.status.idle": "2024-04-13T09:46:45.872043Z",
     "shell.execute_reply": "2024-04-13T09:46:45.871062Z"
    },
    "papermill": {
     "duration": 142.415641,
     "end_time": "2024-04-13T09:46:45.874010",
     "exception": false,
     "start_time": "2024-04-13T09:44:23.458369",
     "status": "completed"
    },
    "tags": []
   },
   "outputs": [
    {
     "name": "stdout",
     "output_type": "stream",
     "text": [
      "Epoch 1/4\n",
      "\u001b[1m40/40\u001b[0m \u001b[32m━━━━━━━━━━━━━━━━━━━━\u001b[0m\u001b[37m\u001b[0m \u001b[1m52s\u001b[0m 742ms/step - loss: 2.2662 - sparse_categorical_accuracy: 0.4613\n",
      "Epoch 2/4\n",
      "\u001b[1m40/40\u001b[0m \u001b[32m━━━━━━━━━━━━━━━━━━━━\u001b[0m\u001b[37m\u001b[0m \u001b[1m29s\u001b[0m 731ms/step - loss: 2.2086 - sparse_categorical_accuracy: 0.4677\n",
      "Epoch 3/4\n",
      "\u001b[1m40/40\u001b[0m \u001b[32m━━━━━━━━━━━━━━━━━━━━\u001b[0m\u001b[37m\u001b[0m \u001b[1m29s\u001b[0m 732ms/step - loss: 2.1390 - sparse_categorical_accuracy: 0.4798\n",
      "Epoch 4/4\n",
      "\u001b[1m40/40\u001b[0m \u001b[32m━━━━━━━━━━━━━━━━━━━━\u001b[0m\u001b[37m\u001b[0m \u001b[1m29s\u001b[0m 732ms/step - loss: 2.0432 - sparse_categorical_accuracy: 0.4988\n"
     ]
    },
    {
     "data": {
      "text/plain": [
       "<keras.src.callbacks.history.History at 0x7e52300c98a0>"
      ]
     },
     "execution_count": 9,
     "metadata": {},
     "output_type": "execute_result"
    }
   ],
   "source": [
    "# Limit the input sequence length to 512 (to control memory usage).\n",
    "gemma_lm.preprocessor.sequence_length = 512\n",
    "# Use AdamW (a common optimizer for transformer models).\n",
    "optimizer = keras.optimizers.AdamW(\n",
    "    learning_rate=1e-4,\n",
    "    weight_decay=0.01,\n",
    ")\n",
    "# Exclude layernorm and bias terms from decay.\n",
    "optimizer.exclude_from_weight_decay(var_names=[\"bias\", \"scale\"])\n",
    "\n",
    "gemma_lm.compile(\n",
    "    loss=keras.losses.SparseCategoricalCrossentropy(from_logits=True),\n",
    "    optimizer=optimizer,\n",
    "    weighted_metrics=[keras.metrics.SparseCategoricalAccuracy()],\n",
    ")\n",
    "gemma_lm.fit(training_list, epochs=4, batch_size=1)"
   ]
  },
  {
   "cell_type": "markdown",
   "id": "fc3c4e94",
   "metadata": {
    "papermill": {
     "duration": 0.022527,
     "end_time": "2024-04-13T09:46:45.920278",
     "exception": false,
     "start_time": "2024-04-13T09:46:45.897751",
     "status": "completed"
    },
    "tags": []
   },
   "source": [
    "### Kaggle questions post fine-tuning\n"
   ]
  },
  {
   "cell_type": "code",
   "execution_count": 10,
   "id": "be7f6efb",
   "metadata": {
    "execution": {
     "iopub.execute_input": "2024-04-13T09:46:45.967315Z",
     "iopub.status.busy": "2024-04-13T09:46:45.966934Z",
     "iopub.status.idle": "2024-04-13T09:47:24.569756Z",
     "shell.execute_reply": "2024-04-13T09:47:24.568649Z"
    },
    "papermill": {
     "duration": 38.652136,
     "end_time": "2024-04-13T09:47:24.595017",
     "exception": false,
     "start_time": "2024-04-13T09:46:45.942881",
     "status": "completed"
    },
    "tags": []
   },
   "outputs": [
    {
     "data": {
      "text/html": [
       "<div>\n",
       "<style scoped>\n",
       "    .dataframe tbody tr th:only-of-type {\n",
       "        vertical-align: middle;\n",
       "    }\n",
       "\n",
       "    .dataframe tbody tr th {\n",
       "        vertical-align: top;\n",
       "    }\n",
       "\n",
       "    .dataframe thead th {\n",
       "        text-align: right;\n",
       "    }\n",
       "</style>\n",
       "<table border=\"1\" class=\"dataframe\">\n",
       "  <thead>\n",
       "    <tr style=\"text-align: right;\">\n",
       "      <th></th>\n",
       "      <th>Questions</th>\n",
       "      <th>Before_Training_Response</th>\n",
       "      <th>After_Training_Response</th>\n",
       "    </tr>\n",
       "  </thead>\n",
       "  <tbody>\n",
       "    <tr>\n",
       "      <th>0</th>\n",
       "      <td>What are various Competitions formats at Kaggle?</td>\n",
       "      <td>Instruction:\\nWhat are various Competitions fo...</td>\n",
       "      <td>Instruction:\\nWhat are various Competitions fo...</td>\n",
       "    </tr>\n",
       "    <tr>\n",
       "      <th>1</th>\n",
       "      <td>What are teams at Kaggle?</td>\n",
       "      <td>Instruction:\\nWhat are teams at Kaggle?\\n\\nRes...</td>\n",
       "      <td>Instruction:\\nWhat are teams at Kaggle?\\n\\nRes...</td>\n",
       "    </tr>\n",
       "    <tr>\n",
       "      <th>2</th>\n",
       "      <td>How a person can create a dataset at Kaggle?</td>\n",
       "      <td>Instruction:\\nHow a person can create a datase...</td>\n",
       "      <td>Instruction:\\nHow a person can create a datase...</td>\n",
       "    </tr>\n",
       "    <tr>\n",
       "      <th>3</th>\n",
       "      <td>What are Notebooks at Kaggle?</td>\n",
       "      <td>Instruction:\\nWhat are Notebooks at Kaggle?\\n\\...</td>\n",
       "      <td>Instruction:\\nWhat are Notebooks at Kaggle?\\n\\...</td>\n",
       "    </tr>\n",
       "    <tr>\n",
       "      <th>4</th>\n",
       "      <td>What is the stance of cheating in competitions...</td>\n",
       "      <td>Instruction:\\nWhat is the stance of cheating i...</td>\n",
       "      <td>Instruction:\\nWhat is the stance of cheating i...</td>\n",
       "    </tr>\n",
       "  </tbody>\n",
       "</table>\n",
       "</div>"
      ],
      "text/plain": [
       "                                           Questions  \\\n",
       "0   What are various Competitions formats at Kaggle?   \n",
       "1                          What are teams at Kaggle?   \n",
       "2       How a person can create a dataset at Kaggle?   \n",
       "3                      What are Notebooks at Kaggle?   \n",
       "4  What is the stance of cheating in competitions...   \n",
       "\n",
       "                            Before_Training_Response  \\\n",
       "0  Instruction:\\nWhat are various Competitions fo...   \n",
       "1  Instruction:\\nWhat are teams at Kaggle?\\n\\nRes...   \n",
       "2  Instruction:\\nHow a person can create a datase...   \n",
       "3  Instruction:\\nWhat are Notebooks at Kaggle?\\n\\...   \n",
       "4  Instruction:\\nWhat is the stance of cheating i...   \n",
       "\n",
       "                             After_Training_Response  \n",
       "0  Instruction:\\nWhat are various Competitions fo...  \n",
       "1  Instruction:\\nWhat are teams at Kaggle?\\n\\nRes...  \n",
       "2  Instruction:\\nHow a person can create a datase...  \n",
       "3  Instruction:\\nWhat are Notebooks at Kaggle?\\n\\...  \n",
       "4  Instruction:\\nWhat is the stance of cheating i...  "
      ]
     },
     "execution_count": 10,
     "metadata": {},
     "output_type": "execute_result"
    }
   ],
   "source": [
    "after_training_response = []\n",
    "\n",
    "for question in testing_questions_set:\n",
    "    \n",
    "    template = \"Instruction:\\n{instruction}\\n\\nResponse:\\n{response}\"\n",
    "    prompt = template.format(\n",
    "        instruction=question,\n",
    "        response=\"\",\n",
    "    )\n",
    "    after_training_response.append(gemma_lm.generate(prompt, max_length=256))\n",
    "\n",
    "evaluation_df['After_Training_Response'] = after_training_response\n",
    "evaluation_df"
   ]
  },
  {
   "cell_type": "code",
   "execution_count": 11,
   "id": "e34134e3",
   "metadata": {
    "execution": {
     "iopub.execute_input": "2024-04-13T09:47:24.642874Z",
     "iopub.status.busy": "2024-04-13T09:47:24.642528Z",
     "iopub.status.idle": "2024-04-13T09:47:24.650886Z",
     "shell.execute_reply": "2024-04-13T09:47:24.650054Z"
    },
    "papermill": {
     "duration": 0.034959,
     "end_time": "2024-04-13T09:47:24.653122",
     "exception": false,
     "start_time": "2024-04-13T09:47:24.618163",
     "status": "completed"
    },
    "tags": []
   },
   "outputs": [],
   "source": [
    "evaluation_df.to_csv('evaluation_df.csv',index=False)"
   ]
  },
  {
   "cell_type": "code",
   "execution_count": null,
   "id": "7d1e75dc",
   "metadata": {
    "papermill": {
     "duration": 0.023015,
     "end_time": "2024-04-13T09:47:24.701010",
     "exception": false,
     "start_time": "2024-04-13T09:47:24.677995",
     "status": "completed"
    },
    "tags": []
   },
   "outputs": [],
   "source": []
  }
 ],
 "metadata": {
  "kaggle": {
   "accelerator": "gpu",
   "dataSources": [
    {
     "datasetId": 4737459,
     "sourceId": 8036285,
     "sourceType": "datasetVersion"
    },
    {
     "isSourceIdPinned": true,
     "modelInstanceId": 5171,
     "sourceId": 11371,
     "sourceType": "modelInstanceVersion"
    }
   ],
   "dockerImageVersionId": 30683,
   "isGpuEnabled": true,
   "isInternetEnabled": true,
   "language": "python",
   "sourceType": "notebook"
  },
  "kernelspec": {
   "display_name": "Python 3",
   "language": "python",
   "name": "python3"
  },
  "language_info": {
   "codemirror_mode": {
    "name": "ipython",
    "version": 3
   },
   "file_extension": ".py",
   "mimetype": "text/x-python",
   "name": "python",
   "nbconvert_exporter": "python",
   "pygments_lexer": "ipython3",
   "version": "3.10.13"
  },
  "papermill": {
   "default_parameters": {},
   "duration": 340.326425,
   "end_time": "2024-04-13T09:47:28.289473",
   "environment_variables": {},
   "exception": null,
   "input_path": "__notebook__.ipynb",
   "output_path": "__notebook__.ipynb",
   "parameters": {},
   "start_time": "2024-04-13T09:41:47.963048",
   "version": "2.5.0"
  }
 },
 "nbformat": 4,
 "nbformat_minor": 5
}
